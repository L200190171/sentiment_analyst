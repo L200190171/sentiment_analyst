{
  "nbformat": 4,
  "nbformat_minor": 0,
  "metadata": {
    "colab": {
      "provenance": [],
      "authorship_tag": "ABX9TyMXCglQsnZ+wM4SFb688bz8",
      "include_colab_link": true
    },
    "kernelspec": {
      "name": "python3",
      "display_name": "Python 3"
    },
    "language_info": {
      "name": "python"
    }
  },
  "cells": [
    {
      "cell_type": "markdown",
      "metadata": {
        "id": "view-in-github",
        "colab_type": "text"
      },
      "source": [
        "<a href=\"https://colab.research.google.com/github/L200190171/sentiment_analyst/blob/main/code_analisis.ipynb\" target=\"_parent\"><img src=\"https://colab.research.google.com/assets/colab-badge.svg\" alt=\"Open In Colab\"/></a>"
      ]
    },
    {
      "cell_type": "code",
      "source": [
        "#import data\n",
        "import pandas as pd\n",
        "data = pd.read_csv('telegram_1.csv')\n",
        "data.head()\n"
      ],
      "metadata": {
        "id": "IbKUO_LjPxGy"
      },
      "execution_count": null,
      "outputs": []
    },
    {
      "cell_type": "code",
      "source": [
        "tele = data.content"
      ],
      "metadata": {
        "id": "aipXI2FfkiiJ"
      },
      "execution_count": 11,
      "outputs": []
    },
    {
      "cell_type": "code",
      "source": [
        "#bersih data\n",
        "import string\n",
        "from string import punctuation\n",
        "string.punctuation\n",
        "string.digits\n",
        "\n",
        "def remove_punctuation(tele):\n",
        "  punctuationfree=\"\".join([i for i in tele if i not in string.punctuation])\n",
        "  digitsfree=\"\".join([i for i in punctuationfree if i not in string.digits])\n",
        "  return digitsfree\n",
        "\n",
        "data['clean_tele']= data['content'].apply(lambda x:remove_punctuation(x))\n",
        "data.head()\n",
        "\n",
        "#mengecilkan semua huruf\n",
        "data['lower_tele']= data['clean_tele'].apply(lambda x:x.lower())\n",
        "data.head()\n"
      ],
      "metadata": {
        "id": "WRvsaQxIiKO0"
      },
      "execution_count": null,
      "outputs": []
    },
    {
      "cell_type": "code",
      "source": [
        "#import stopword\n",
        "import nltk\n",
        "nltk.download('stopwords')\n",
        "\n",
        "from nltk.corpus import stopwords\n",
        "stopwords_indonesia = stopwords.words('indonesian')\n",
        "\n",
        "from"
      ],
      "metadata": {
        "colab": {
          "base_uri": "https://localhost:8080/"
        },
        "id": "Jxw5VKLwRTwz",
        "outputId": "15ac792d-2aae-499c-e5d1-d33692951ba2"
      },
      "execution_count": 9,
      "outputs": [
        {
          "output_type": "stream",
          "name": "stderr",
          "text": [
            "[nltk_data] Downloading package stopwords to /root/nltk_data...\n",
            "[nltk_data]   Unzipping corpora/stopwords.zip.\n"
          ]
        },
        {
          "output_type": "execute_result",
          "data": {
            "text/plain": [
              "True"
            ]
          },
          "metadata": {},
          "execution_count": 9
        }
      ]
    }
  ]
}